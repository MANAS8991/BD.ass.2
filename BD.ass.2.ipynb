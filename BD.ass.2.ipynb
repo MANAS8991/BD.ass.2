{
 "cells": [
  {
   "cell_type": "markdown",
   "id": "e49cea5a",
   "metadata": {},
   "source": [
    "# 1. Write an SQL query to retrieve the names and email addresses of all employees from a table named \"Employees\".\n"
   ]
  },
  {
   "cell_type": "code",
   "execution_count": null,
   "id": "bca90d68",
   "metadata": {},
   "outputs": [],
   "source": [
    "SELECT name, email\n",
    "FROM Employees;\n",
    "\n",
    "In this query, SELECT is used to specify the columns you want to retrieve, which are name and email in this case. FROM is used to specify the table from which you want to retrieve the data, which is \"Employees\" in this case.\n",
    "\n",
    "By executing this query, you will get the names and email addresses of all employees stored in the \"Employees\" table.\n"
   ]
  },
  {
   "cell_type": "markdown",
   "id": "663666df",
   "metadata": {},
   "source": [
    "# 2. Write an SQL query to filter records from a table named \"Customers\" where the \"City\" column is 'New York'.\n"
   ]
  },
  {
   "cell_type": "code",
   "execution_count": null,
   "id": "6bfd6f13",
   "metadata": {},
   "outputs": [],
   "source": [
    "SELECT *\n",
    "FROM Customers\n",
    "WHERE City = 'New York';\n",
    "\n",
    "In this query, SELECT * is used to retrieve all columns from the \"Customers\" table. FROM is used to specify the table from which you want to retrieve the data, which is \"Customers\" in this case. WHERE is used to specify the condition that the \"City\" column should be equal to 'New York'.\n",
    "\n",
    "By executing this query, you will get all the records from the \"Customers\" table where the \"City\" column is 'New York'. If you only want to retrieve specific columns, you can replace * with the column names you are interested in.\n"
   ]
  },
  {
   "cell_type": "markdown",
   "id": "82491ffd",
   "metadata": {},
   "source": [
    "# 3. Write an SQL query to sort records in descending order based on the \"DateOfBirth\" column in a table named \"Users\".\n"
   ]
  },
  {
   "cell_type": "code",
   "execution_count": null,
   "id": "dd6241bd",
   "metadata": {},
   "outputs": [],
   "source": [
    "SELECT *\n",
    "FROM Users\n",
    "ORDER BY DateOfBirth DESC;\n",
    "\n",
    "In this query, SELECT * is used to retrieve all columns from the \"Users\" table. FROM is used to specify the table from which you want to retrieve the data, which is \"Users\" in this case. ORDER BY is used to specify the column by which you want to sort the records, which is \"DateOfBirth\" in this case. The DESC keyword is used to indicate that you want to sort the records in descending order.\n",
    "\n",
    "By executing this query, you will get all the records from the \"Users\" table sorted in descending order based on the \"DateOfBirth\" column. If you only want to retrieve specific columns, you can replace * with the column names you are interested in.\n"
   ]
  },
  {
   "cell_type": "markdown",
   "id": "2ededbcc",
   "metadata": {},
   "source": [
    "# 4. Write an SQL query to sort records in ascending order based on the \"RegistrationDate\" column in a table named \"Users\".\n"
   ]
  },
  {
   "cell_type": "code",
   "execution_count": null,
   "id": "035ac3e1",
   "metadata": {},
   "outputs": [],
   "source": [
    "SELECT *\n",
    "FROM Users\n",
    "ORDER BY RegistrationDate ASC;\n",
    "\n",
    "In this query, SELECT * is used to retrieve all columns from the \"Users\" table. FROM is used to specify the table from which you want to retrieve the data, which is \"Users\" in this case. ORDER BY is used to specify the column by which you want to sort the records, which is \"RegistrationDate\" in this case. The ASC keyword is used to indicate that you want to sort the records in ascending order.\n",
    "\n",
    "By executing this query, you will get all the records from the \"Users\" table sorted in ascending order based on the \"RegistrationDate\" column. If you only want to retrieve specific columns, you can replace * with the column names you are interested in."
   ]
  },
  {
   "cell_type": "markdown",
   "id": "9caa6b4f",
   "metadata": {},
   "source": [
    "# 5. Write an SQL query to find the employee with the highest salary from a table named \"Employees\" and display their name, position, and salary.\n"
   ]
  },
  {
   "cell_type": "code",
   "execution_count": null,
   "id": "98e8c630",
   "metadata": {},
   "outputs": [],
   "source": [
    "SELECT name, position, salary\n",
    "FROM Employees\n",
    "WHERE salary = (SELECT MAX(salary) FROM Employees);\n",
    "\n",
    "\n",
    "In this query, SELECT name, position, salary is used to specify the columns you want to retrieve, which are the employee's name, position, and salary. FROM Employees is used to specify the table from which you want to retrieve the data, which is \"Employees\" in this case. The WHERE clause is used to filter the records based on the condition that the salary should be equal to the maximum salary obtained from the subquery (SELECT MAX(salary) FROM Employees).\n",
    "\n",
    "By executing this query, you will get the employee with the highest salary from the \"Employees\" table and display their name, position, and salary. If there are multiple employees with the same highest salary, this query will return all of them."
   ]
  },
  {
   "cell_type": "markdown",
   "id": "3619a277",
   "metadata": {},
   "source": [
    "# 6. Write an SQL query to retrieve records from a table named \"Customers\" where the \"Phone\" column matches the pattern '+1-XXX-XXX-XXXX'.\n"
   ]
  },
  {
   "cell_type": "code",
   "execution_count": null,
   "id": "29b5f092",
   "metadata": {},
   "outputs": [],
   "source": [
    "SELECT *\n",
    "FROM Customers\n",
    "WHERE Phone LIKE '+1-___-___-____';\n",
    "\n",
    "\n",
    "In this query, SELECT * is used to retrieve all columns from the \"Customers\" table. FROM is used to specify the table from which you want to retrieve the data, which is \"Customers\" in this case. The WHERE clause is used to filter the records based on the condition that the \"Phone\" column matches the pattern '+1---___'. The underscore () is a wildcard character that matches any single character.\n",
    "\n",
    "By executing this query, you will get all the records from the \"Customers\" table where the \"Phone\" column matches the specified pattern. If you only want to retrieve specific columns, you can replace * with the column names you are interested in."
   ]
  },
  {
   "cell_type": "markdown",
   "id": "d8ec6f46",
   "metadata": {},
   "source": [
    "# 7. Write an SQL query to retrieve the top 5 customers with the highest total purchase amount from a table named \"Orders\" and display their names and total purchase amounts.\n"
   ]
  },
  {
   "cell_type": "code",
   "execution_count": null,
   "id": "ea1e9f63",
   "metadata": {},
   "outputs": [],
   "source": [
    "SELECT CustomerName, SUM(TotalAmount) AS TotalPurchaseAmount\n",
    "FROM Orders\n",
    "GROUP BY CustomerName\n",
    "ORDER BY TotalPurchaseAmount DESC\n",
    "LIMIT 5;\n",
    "\n",
    "\n",
    "In this query, SELECT CustomerName, SUM(TotalAmount) AS TotalPurchaseAmount is used to specify the columns you want to retrieve. The CustomerName column represents the customer's name, and the SUM(TotalAmount) calculates the total purchase amount for each customer. The AS keyword is used to alias the calculated sum column as \"TotalPurchaseAmount\".\n",
    "\n",
    "FROM Orders is used to specify the table from which you want to retrieve the data, which is \"Orders\" in this case. The GROUP BY clause groups the records by the \"CustomerName\" column, allowing the calculation of the total purchase amount for each customer.\n",
    "\n",
    "The ORDER BY clause is used to sort the records in descending order based on the total purchase amount. The LIMIT clause limits the result set to the top 5 rows.\n",
    "\n",
    "By executing this query, you will retrieve the top 5 customers with the highest total purchase amount from the \"Orders\" table and display their names and total purchase amounts."
   ]
  },
  {
   "cell_type": "markdown",
   "id": "00ec1a22",
   "metadata": {},
   "source": [
    "# 8. Write an SQL query to calculate the percentage of sales for each product category in a table named \"Sales\" and display the category name, total sales amount, and the percentage of total sales."
   ]
  },
  {
   "cell_type": "code",
   "execution_count": null,
   "id": "455dba16",
   "metadata": {},
   "outputs": [],
   "source": [
    "SELECT CategoryName, SUM(SalesAmount) AS TotalSalesAmount, \n",
    "       (SUM(SalesAmount) / (SELECT SUM(SalesAmount) FROM Sales)) * 100 AS PercentageOfTotalSales\n",
    "FROM Sales\n",
    "GROUP BY CategoryName;\n",
    "\n",
    "\n",
    "\n",
    "In this query, SELECT CategoryName, SUM(SalesAmount) AS TotalSalesAmount is used to specify the columns you want to retrieve. The CategoryName column represents the product category name, and the SUM(SalesAmount) calculates the total sales amount for each category.\n",
    "\n",
    "The subquery (SELECT SUM(SalesAmount) FROM Sales) calculates the total sales amount across all categories. This value is then used to calculate the percentage of total sales for each category by dividing the category's total sales amount by the overall total and multiplying by 100.\n",
    "\n",
    "FROM Sales is used to specify the table from which you want to retrieve the data, which is \"Sales\" in this case. The GROUP BY clause groups the records by the \"CategoryName\" column, allowing the calculation of the total sales amount for each category.\n",
    "\n",
    "By executing this query, you will retrieve the category name, total sales amount, and the percentage of total sales for each product category in the \"Sales\" table."
   ]
  },
  {
   "cell_type": "markdown",
   "id": "b0a7ba9f",
   "metadata": {},
   "source": [
    "# 9. Write an SQL query to find the customers who have made the highest total purchases across all years from a table named \"Orders\" and display their names, email addresses, and the total purchase amount.\n"
   ]
  },
  {
   "cell_type": "code",
   "execution_count": null,
   "id": "8cf1cfd7",
   "metadata": {},
   "outputs": [],
   "source": [
    "SELECT Customers.Name, Customers.Email, SUM(Orders.PurchaseAmount) AS TotalPurchaseAmount\n",
    "FROM Customers\n",
    "JOIN Orders ON Customers.CustomerID = Orders.CustomerID\n",
    "GROUP BY Customers.CustomerID, Customers.Name, Customers.Email\n",
    "HAVING SUM(Orders.PurchaseAmount) = (\n",
    "    SELECT MAX(TotalPurchaseAmount)\n",
    "    FROM (\n",
    "        SELECT SUM(PurchaseAmount) AS TotalPurchaseAmount\n",
    "        FROM Orders\n",
    "        GROUP BY CustomerID\n",
    "    ) AS Subquery\n",
    ");\n",
    "\n",
    "\n",
    "In this query, SELECT Customers.Name, Customers.Email, SUM(Orders.PurchaseAmount) AS TotalPurchaseAmount is used to specify the columns you want to retrieve. The Customers.Name and Customers.Email columns represent the customer's name and email address, respectively. The SUM(Orders.PurchaseAmount) calculates the total purchase amount for each customer.\n",
    "\n",
    "FROM Customers JOIN Orders ON Customers.CustomerID = Orders.CustomerID is used to join the \"Customers\" and \"Orders\" tables based on the \"CustomerID\" column.\n",
    "\n",
    "The GROUP BY Customers.CustomerID, Customers.Name, Customers.Email groups the records by the customer's ID, name, and email address.\n",
    "\n",
    "The HAVING SUM(Orders.PurchaseAmount) = (SELECT MAX(TotalPurchaseAmount) FROM (SELECT SUM(PurchaseAmount) AS TotalPurchaseAmount FROM Orders GROUP BY CustomerID) AS Subquery) filters the result to only include the customers who have the highest total purchase amount. It uses a subquery to calculate the maximum total purchase amount across all customers.\n",
    "\n",
    "By executing this query, you will retrieve the names, email addresses, and total purchase amounts of the customers who have made the highest total purchases across all years from the \"Orders\" table."
   ]
  }
 ],
 "metadata": {
  "kernelspec": {
   "display_name": "Python 3 (ipykernel)",
   "language": "python",
   "name": "python3"
  },
  "language_info": {
   "codemirror_mode": {
    "name": "ipython",
    "version": 3
   },
   "file_extension": ".py",
   "mimetype": "text/x-python",
   "name": "python",
   "nbconvert_exporter": "python",
   "pygments_lexer": "ipython3",
   "version": "3.9.12"
  }
 },
 "nbformat": 4,
 "nbformat_minor": 5
}
